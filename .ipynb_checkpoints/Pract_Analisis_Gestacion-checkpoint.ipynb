{
 "cells": [
  {
   "cell_type": "markdown",
   "id": "69a287aa-39ab-470b-aa65-e18ef37c536e",
   "metadata": {},
   "source": [
    "## Práctica - Fundamentos de las Ciencias de Datos"
   ]
  },
  {
   "cell_type": "code",
   "execution_count": 223,
   "id": "764aa711-b48c-4099-bca4-352423219ee4",
   "metadata": {},
   "outputs": [],
   "source": [
    "import pandas as pd\n",
    "import numpy as np\n",
    "import matplotlib.pyplot as plt\n",
    "import seaborn as sns"
   ]
  },
  {
   "cell_type": "markdown",
   "id": "7014095c-3b5f-4d19-9280-7206f077987a",
   "metadata": {},
   "source": [
    "**Importación de datasets relacionados a madres, sus hijos y características de gestaciones**"
   ]
  },
  {
   "cell_type": "code",
   "execution_count": 108,
   "id": "2384b1bc-0a7b-4606-bb53-355645f29a13",
   "metadata": {},
   "outputs": [],
   "source": [
    "data_nac = pd.read_csv(r'C:\\Users\\icrui\\Documents\\DS-ML\\FCEIA\\3° cuatrimestre\\Fundamentos_Cs_Datos\\Practica_Gestacion\\nacimientos.csv', sep=';', skiprows=3)"
   ]
  },
  {
   "cell_type": "code",
   "execution_count": 110,
   "id": "0f83e811-0f8d-4c57-93f3-5ff6b96c0919",
   "metadata": {},
   "outputs": [],
   "source": [
    "data_mad = pd.read_excel(r'C:\\Users\\icrui\\Documents\\DS-ML\\FCEIA\\3° cuatrimestre\\Fundamentos_Cs_Datos\\Practica_Gestacion\\datos_madres.xlsx')"
   ]
  },
  {
   "cell_type": "markdown",
   "id": "98fd0a85-9d11-4653-a0d6-41ac9b6be912",
   "metadata": {},
   "source": [
    "**Limpieza inicial**"
   ]
  },
  {
   "cell_type": "code",
   "execution_count": 112,
   "id": "3c63dc9c-e672-4ce3-807a-e2a808bb3023",
   "metadata": {},
   "outputs": [
    {
     "data": {
      "text/plain": [
       "id_madre         0\n",
       "peso_kg_bebe     0\n",
       "semanas_gest     0\n",
       "edad_anios       0\n",
       "hijos_previos    0\n",
       "dtype: int64"
      ]
     },
     "execution_count": 112,
     "metadata": {},
     "output_type": "execute_result"
    }
   ],
   "source": [
    "data_nac.isna().sum()"
   ]
  },
  {
   "cell_type": "code",
   "execution_count": 114,
   "id": "75d1856f-8862-40f8-8410-a6515eedc397",
   "metadata": {},
   "outputs": [],
   "source": [
    "data_nac = data_nac.rename(columns={'id_madre':'id'})"
   ]
  },
  {
   "cell_type": "code",
   "execution_count": 116,
   "id": "cd9101fc-2ebc-4cec-859f-3ce53e33a910",
   "metadata": {},
   "outputs": [],
   "source": [
    "data_mad = data_mad.rename(columns=dict(zip(data_mad.columns, data_mad.columns.str.lower())))"
   ]
  },
  {
   "cell_type": "code",
   "execution_count": 118,
   "id": "caaa3166-9da5-4df9-be88-79946af33047",
   "metadata": {},
   "outputs": [
    {
     "data": {
      "text/plain": [
       "id                     0\n",
       "altura_m_mujer         0\n",
       "peso_kg_mujer          0\n",
       "num_cigarrillos_dia    0\n",
       "dtype: int64"
      ]
     },
     "execution_count": 118,
     "metadata": {},
     "output_type": "execute_result"
    }
   ],
   "source": [
    "data_mad.isna().sum()"
   ]
  },
  {
   "cell_type": "code",
   "execution_count": 120,
   "id": "6314cbf7-47c0-4d19-8a42-4d2bedbe8205",
   "metadata": {},
   "outputs": [],
   "source": [
    "data_mad['altura_m_mujer'] = data_mad['altura_m_mujer'].str.replace(\",\", \".\")"
   ]
  },
  {
   "cell_type": "code",
   "execution_count": 122,
   "id": "2a615cd0-ad9c-4342-b9cf-80f6998a2499",
   "metadata": {},
   "outputs": [],
   "source": [
    "data_mad['altura_m_mujer'] = data_mad['altura_m_mujer'].astype('float')"
   ]
  },
  {
   "cell_type": "markdown",
   "id": "77324292-fe9c-4392-ab84-653daa72ff9d",
   "metadata": {},
   "source": [
    "**Se unen datasets**"
   ]
  },
  {
   "cell_type": "code",
   "execution_count": 124,
   "id": "0b8e8c64-e0c6-4132-aa06-227de11f7901",
   "metadata": {},
   "outputs": [],
   "source": [
    "data = pd.merge(data_mad, data_nac, on='id', how='inner')"
   ]
  },
  {
   "cell_type": "code",
   "execution_count": 128,
   "id": "c4de5add-e213-473b-9c12-b36495f9c8af",
   "metadata": {},
   "outputs": [
    {
     "name": "stdout",
     "output_type": "stream",
     "text": [
      "<class 'pandas.core.frame.DataFrame'>\n",
      "RangeIndex: 345 entries, 0 to 344\n",
      "Data columns (total 8 columns):\n",
      " #   Column               Non-Null Count  Dtype  \n",
      "---  ------               --------------  -----  \n",
      " 0   id                   345 non-null    int64  \n",
      " 1   altura_m_mujer       345 non-null    float64\n",
      " 2   peso_kg_mujer        345 non-null    float64\n",
      " 3   num_cigarrillos_dia  345 non-null    int64  \n",
      " 4   peso_kg_bebe         345 non-null    float64\n",
      " 5   semanas_gest         345 non-null    float64\n",
      " 6   edad_anios           345 non-null    int64  \n",
      " 7   hijos_previos        345 non-null    int64  \n",
      "dtypes: float64(4), int64(4)\n",
      "memory usage: 21.7 KB\n"
     ]
    }
   ],
   "source": [
    "data.info()"
   ]
  },
  {
   "cell_type": "markdown",
   "id": "8d1c4cc6-cee7-4b87-9c5e-ab79b13d5d11",
   "metadata": {},
   "source": [
    "   "
   ]
  },
  {
   "cell_type": "markdown",
   "id": "fc332559-257b-4f2c-aae3-1f2d6469e891",
   "metadata": {},
   "source": [
    "Ejercicio 2. Considerando que el Índice de Masa Corporal (IMC) se define como el peso de una\r\n",
    "persona en kilogramos dividido por el cuadrado de la estatura en metros, represente\r\n",
    "gráficamente la distribución de dicha variable para las mujeres del dataset. En base al gráfico\r\n",
    "realizado, ¿cómo caracterizaría su distribución en relación a la simetría?\r"
   ]
  },
  {
   "cell_type": "code",
   "execution_count": 151,
   "id": "f88dedca-f134-4bb0-bd9b-b45bb0a7757a",
   "metadata": {},
   "outputs": [],
   "source": [
    "data['imc_madre'] = data['peso_kg_mujer']/((data['altura_m_mujer'])**2)"
   ]
  },
  {
   "cell_type": "code",
   "execution_count": 199,
   "id": "95efeacb-a58a-4a7f-ba8b-5c73cdaa6d05",
   "metadata": {},
   "outputs": [
    {
     "data": {
      "image/png": "[encoded data removed]",
      "text/plain": [
       "<Figure size 1000x500 with 1 Axes>"
      ]
     },
     "metadata": {},
     "output_type": "display_data"
    }
   ],
   "source": [
    "plt.figure(figsize=(10, 5))\n",
    "sns.boxplot(x='imc_madre', data=data)\n",
    "plt.xlabel('IMC')\n",
    "plt.title('Distribución del IMC de las madres')\n",
    "plt.show()"
   ]
  },
  {
   "cell_type": "markdown",
   "id": "05e2e3e8-2f0c-4ae2-961f-807f7aa87a8c",
   "metadata": {},
   "source": [
    "*La distribución tiene una asimetría con cola hacia la derecha. Su mediana supera los 20 puntos y presenta muchos valores atípicos superiores a 28.*"
   ]
  },
  {
   "cell_type": "markdown",
   "id": "4323eed6-bebb-4a83-8f09-2a15f8144cb3",
   "metadata": {},
   "source": [
    "Ejercicio 3. Genere una variable categórica binaria realizando la dicotomización de la variable\r\n",
    "vinculada con el número de cigarrillos consumidos a diario, diferenciando aquellas mujeres que no\r\n",
    "fuman habitualmente (no consumen cigarrillos) de aquellas que sí lo hacen (consumen 1 o más\r\n",
    "cigarrillos diariamente). ¿Qué porcentaje de las mujeres del dataset son fumadoras?"
   ]
  },
  {
   "cell_type": "code",
   "execution_count": 244,
   "id": "cdfd74c3-2b6b-445e-a4c1-783d9d9b8532",
   "metadata": {},
   "outputs": [],
   "source": [
    "data['fumadora'] = np.where(data['num_cigarrillos_dia'] > 0, 1, 0)\n",
    "labels = {1:'fumadoras', 0:'no fumadoras'}\n",
    "conteo = data['fumadora'].value_counts().sort_index()"
   ]
  },
  {
   "cell_type": "code",
   "execution_count": 260,
   "id": "cb76a11a-d1b8-43d8-b98a-20523e02e7aa",
   "metadata": {},
   "outputs": [
    {
     "data": {
      "image/png": "[encoded data removed]",
      "text/plain": [
       "<Figure size 500x500 with 1 Axes>"
      ]
     },
     "metadata": {},
     "output_type": "display_data"
    }
   ],
   "source": [
    "plt.figure(figsize=(5,5))\n",
    "plt.pie(conteo,\n",
    "    labels=[labels[i] for i in conteo.index],\n",
    "    autopct='%1.1f%%')\n",
    "plt.title('Porcentajes de mujeres que fuman al menos un cigarrillo en la gestación')\n",
    "plt.show()"
   ]
  },
  {
   "cell_type": "code",
   "execution_count": null,
   "id": "04120273-aa82-449d-909a-c43d387c1f33",
   "metadata": {},
   "outputs": [],
   "source": []
  },
  {
   "cell_type": "code",
   "execution_count": null,
   "id": "0957a5e9-cb39-4049-9fe6-d7e201a4b87e",
   "metadata": {},
   "outputs": [],
   "source": []
  }
 ],
 "metadata": {
  "kernelspec": {
   "display_name": "Python [conda env:base] *",
   "language": "python",
   "name": "conda-base-py"
  },
  "language_info": {
   "codemirror_mode": {
    "name": "ipython",
    "version": 3
   },
   "file_extension": ".py",
   "mimetype": "text/x-python",
   "name": "python",
   "nbconvert_exporter": "python",
   "pygments_lexer": "ipython3",
   "version": "3.11.5"
  }
 },
 "nbformat": 4,
 "nbformat_minor": 5
}
